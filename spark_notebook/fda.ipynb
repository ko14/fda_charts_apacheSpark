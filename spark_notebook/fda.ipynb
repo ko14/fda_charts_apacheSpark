{
 "cells": [
  {
   "cell_type": "code",
   "execution_count": 0,
   "metadata": {},
   "outputs": [
    {
     "name": "stdout",
     "output_type": "stream",
     "text": [
     ]
    },
    {
     "data": {
      "application/vnd.jupyter.widget-view+json": {
       "model_id": "4f1a46cbdb2e4c898c6372962a575cb5",
       "version_major": 2,
       "version_minor": 0
      },
      "text/plain": [
       "Progress:   0%|          |elapsed time = 00:00s"
      ]
     },
     "metadata": {},
     "output_type": "display_data"
    },
    {
     "name": "stdout",
     "output_type": "stream",
     "text": [
      "Calculation completed.\n"
     ]
    }
   ],
   "source": [
    "#initialization cell - user parameters\n",
    "\n",
    "from pyspark.sql.functions import *\n",
    "import pandas\n",
    "import json\n",
    "from datetime import datetime, timedelta\n",
    "import boto3 \n",
    "\n",
    "s3 = boto3.client('s3') \n",
    "bucket = \"\" #fill in bucket name\n",
    "\n",
    "#input - uncompressed json file from the NDC zip retrieved from https://open.fda.gov/apis/drug/ndc/download/\n",
    "fda_file_location = f\"s3://{bucket}/fda/drug-ndc-0001-of-0001.json\"\n"
   ]
  },
  {
   "cell_type": "code",
   "execution_count": 0,
   "metadata": {},
   "outputs": [
    {
     "name": "stdout",
     "output_type": "stream",
     "text": [
     ]
    },
    {
     "data": {
      "application/vnd.jupyter.widget-view+json": {
       "model_id": "5691374bb7784384bb4c70b2821dae66",
       "version_major": 2,
       "version_minor": 0
      },
      "text/plain": [
       "Progress:   0%|          |elapsed time = 00:00s"
      ]
     },
     "metadata": {},
     "output_type": "display_data"
    },
    {
     "name": "stdout",
     "output_type": "stream",
     "text": [
      "Calculation completed.\n"
     ]
    }
   ],
   "source": [
    "\n",
    "fda_df = spark.read.option(\"inferSchema\", \"true\").option(\"multiline\",\"true\").json(fda_file_location)\n"
   ]
  },
  {
   "cell_type": "code",
   "execution_count": 0,
   "metadata": {
    "scrolled": true
   },
   "outputs": [
    {
     "name": "stdout",
     "output_type": "stream",
     "text": [
     ]
    },
    {
     "data": {
      "application/vnd.jupyter.widget-view+json": {
       "model_id": "591738bc635147bc8471ebc5aa18ff6a",
       "version_major": 2,
       "version_minor": 0
      },
      "text/plain": [
       "Progress:   0%|          |elapsed time = 00:00s"
      ]
     },
     "metadata": {},
     "output_type": "display_data"
    },
    {
     "name": "stdout",
     "output_type": "stream",
     "text": [
      "Calculation completed.\n"
     ]
    }
   ],
   "source": [
    "\n",
    "fda_results_df = fda_df.select(explode(fda_df.results).alias(\"results\"))\n"
   ]
  },
  {
   "cell_type": "code",
   "execution_count": 0,
   "metadata": {},
   "outputs": [
    {
     "name": "stdout",
     "output_type": "stream",
     "text": [
     ]
    },
    {
     "data": {
      "application/vnd.jupyter.widget-view+json": {
       "model_id": "4b5408a154a0438f8cd012091b602922",
       "version_major": 2,
       "version_minor": 0
      },
      "text/plain": [
       "Progress:   0%|          |elapsed time = 00:00s"
      ]
     },
     "metadata": {},
     "output_type": "display_data"
    },
    {
     "name": "stdout",
     "output_type": "stream",
     "text": [
     ]
    }
   ],
   "source": [
    "#Top metric output\n",
    "\n",
    "#if not using AWS Athena, substitute the last 2 lines of each block with: this_df.toPandas().to_json('path/to/output/file.json',orient='records')\n",
    "\n",
    "for product_type in [\"HUMAN PRESCRIPTION DRUG\",\"HUMAN OTC DRUG\"]:\n",
    "        \n",
    "    filename = product_type.replace(\" \",\"_\").lower() + \"_top_labelers.json\"\n",
    "    this_df = fda_results_df.select(\"results.product_type\",col(\"results.labeler_name\").alias(\"name\")).where(f\"results.product_type == '{product_type}'\").groupby(\"product_type\",\"name\").count().withColumnRenamed(\"count\",\"calc\").sort(col(\"count\").desc()).limit(10)\n",
    "    df_as_list = this_df.toPandas().to_dict('records')\n",
    "    s3.put_object(Body = json.dumps(df_as_list), Bucket = bucket, Key = f\"fda/{filename}\")\n",
    "        \n",
    "    filename = product_type.replace(\" \",\"_\").lower() + \"_top_ingredients.json\"\n",
    "    ingredients_df = fda_results_df.select(\"results.product_type\",\"results.marketing_start_date\",explode(\"results.active_ingredients\").alias(\"ingredients\"))\n",
    "    this_df = ingredients_df.select(\"product_type\",\"ingredients.name\").where(f\"product_type == '{product_type}'\").groupby(\"product_type\",\"name\").count().withColumnRenamed(\"count\",\"calc\").sort(col(\"count\").desc()).limit(10)\n",
    "    df_as_list = this_df.toPandas().to_dict('records')\n",
    "    s3.put_object(Body = json.dumps(df_as_list), Bucket = bucket, Key = f\"fda/{filename}\")\n",
    "    \n",
    "    filename = product_type.replace(\" \",\"_\").lower() + \"_top_pharmclass.json\"\n",
    "    pharmclass_df = fda_results_df.select(\"results.product_type\",\"results.marketing_start_date\",explode(\"results.pharm_class\").alias(\"pharmclass\"))\n",
    "    this_df = pharmclass_df.select(\"product_type\",col(\"pharmclass\").alias(\"name\")).where(f\"product_type == '{product_type}'\").groupby(\"product_type\",\"name\").count().withColumnRenamed(\"count\",\"calc\").sort(col(\"count\").desc()).limit(10)\n",
    "    df_as_list = this_df.toPandas().to_dict('records')\n",
    "    s3.put_object(Body = json.dumps(df_as_list), Bucket = bucket, Key = f\"fda/{filename}\")\n"
   ]
  },
  {
   "cell_type": "code",
   "execution_count": 0,
   "metadata": {
    "scrolled": true
   },
   "outputs": [
    {
     "name": "stdout",
     "output_type": "stream",
     "text": [
     ]
    },
    {
     "data": {
      "application/vnd.jupyter.widget-view+json": {
       "model_id": "9f5cb17691b24892b2b0a4a503b6eba9",
       "version_major": 2,
       "version_minor": 0
      },
      "text/plain": [
       "Progress:   0%|          |elapsed time = 00:00s"
      ]
     },
     "metadata": {},
     "output_type": "display_data"
    },
    {
     "name": "stdout",
     "output_type": "stream",
     "text": [
     ]
    }
   ],
   "source": [
    "#Most changed metric\n",
    "\n",
    "year_ago_dt = datetime.today() - timedelta(days = 365)\n",
    "year_ago_str = str(year_ago_dt.year) + str(year_ago_dt.strftime('%m')) + str(year_ago_dt.strftime('%d'))\n",
    "\n",
    "two_years_ago_dt = datetime.today() - timedelta(days = 730)\n",
    "two_years_ago_str = str(two_years_ago_dt.year) + str(two_years_ago_dt.strftime('%m')) + str(two_years_ago_dt.strftime('%d'))\n",
    "\n",
    "\n",
    "for product_type in [\"HUMAN PRESCRIPTION DRUG\",\"HUMAN OTC DRUG\"]:\n",
    "        \n",
    "    filename = product_type.replace(\" \",\"_\").lower() + \"_mostchange_labelers.json\"\n",
    "    fda_results_df.createOrReplaceTempView(\"view_fda_results_df\")\n",
    "    spark.sql(f\"select results.product_type,results.labeler_name,count(*) as last_year_count FROM view_fda_results_df where results.product_type = '{product_type}' and results.marketing_start_date >= '{two_years_ago_str}' and results.marketing_start_date < '{year_ago_str}' group by results.product_type,results.labeler_name\").createOrReplaceTempView(\"view_last_year_df\")   \n",
    "    spark.sql(f\"select results.product_type,results.labeler_name,count(*) as this_year_count FROM view_fda_results_df where results.product_type = '{product_type}' and results.marketing_start_date >= '{year_ago_str}' group by results.product_type,results.labeler_name\").createOrReplaceTempView(\"view_this_year_df\") \n",
    "    this_df = spark.sql(\"select last.product_type, last.labeler_name as name, round(((this_year_count-last_year_count)/last_year_count*100),1) as calc from view_last_year_df last join view_this_year_df this on last.product_type = this.product_type and last.labeler_name = this.labeler_name order by round(((this_year_count-last_year_count)/last_year_count*100),1) desc limit 10\") \n",
    "    df_as_list = this_df.toPandas().to_dict('records')\n",
    "    s3.put_object(Body = json.dumps(df_as_list), Bucket = bucket, Key = f\"fda/{filename}\")\n",
    "    \n",
    "    filename = product_type.replace(\" \",\"_\").lower() + \"_mostchange_ingredients.json\"\n",
    "    ingredients_df.createOrReplaceTempView(\"view_ingredients_df\")\n",
    "    spark.sql(f\"select product_type,ingredients.name,count(*) as last_year_count FROM view_ingredients_df where product_type = '{product_type}' and marketing_start_date >= '{two_years_ago_str}' and marketing_start_date < '{year_ago_str}' group by product_type,ingredients.name\").createOrReplaceTempView(\"view_last_year_df\")   \n",
    "    spark.sql(f\"select product_type,ingredients.name,count(*) as this_year_count FROM view_ingredients_df where product_type = '{product_type}' and marketing_start_date >= '{year_ago_str}' group by product_type,ingredients.name\").createOrReplaceTempView(\"view_this_year_df\") \n",
    "    this_df = spark.sql(\"select last.product_type, last.name, round(((this_year_count-last_year_count)/last_year_count*100),1) as calc from view_last_year_df last join view_this_year_df this on last.product_type = this.product_type and last.name = this.name order by round(((this_year_count-last_year_count)/last_year_count*100),1) desc limit 10\") \n",
    "    df_as_list = this_df.toPandas().to_dict('records')\n",
    "    s3.put_object(Body = json.dumps(df_as_list), Bucket = bucket, Key = f\"fda/{filename}\")\n",
    "\n",
    "    filename = product_type.replace(\" \",\"_\").lower() + \"_mostchange_pharmclass.json\"\n",
    "    pharmclass_df.createOrReplaceTempView(\"view_pharmclass_df\")\n",
    "    spark.sql(f\"select product_type,pharmclass,count(*) as last_year_count FROM view_pharmclass_df where product_type = '{product_type}' and marketing_start_date >= '{two_years_ago_str}' and marketing_start_date < '{year_ago_str}' group by product_type,pharmclass\").createOrReplaceTempView(\"view_last_year_df\")   \n",
    "    spark.sql(f\"select product_type,pharmclass,count(*) as this_year_count FROM view_pharmclass_df where product_type = '{product_type}' and marketing_start_date >= '{year_ago_str}' group by product_type,pharmclass\").createOrReplaceTempView(\"view_this_year_df\") \n",
    "    this_df = spark.sql(\"select last.product_type, last.pharmclass as name, round(((this_year_count-last_year_count)/last_year_count*100),1) as calc from view_last_year_df last join view_this_year_df this on last.product_type = this.product_type and last.pharmclass = this.pharmclass order by round(((this_year_count-last_year_count)/last_year_count*100),1) desc limit 10\") \n",
    "    df_as_list = this_df.toPandas().to_dict('records')\n",
    "    s3.put_object(Body = json.dumps(df_as_list), Bucket = bucket, Key = f\"fda/{filename}\")\n",
    "        \n"
   ]
  }
 ],
 "metadata": {
  "kernelspec": {
   "display_name": "Athena PySpark",
   "language": "python",
   "name": "kepler_python_kernel"
  },
  "language_info": {
   "codemirror_mode": {
    "name": "python",
    "version": 3
   },
   "file_extension": ".py",
   "mimetype": "text/x-python",
   "name": "Python_Session",
   "pygments_lexer": "python3"
  }
 },
 "nbformat": 4,
 "nbformat_minor": 1
}
